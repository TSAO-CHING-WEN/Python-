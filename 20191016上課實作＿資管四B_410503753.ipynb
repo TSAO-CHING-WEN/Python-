{
 "cells": [
  {
   "cell_type": "markdown",
   "metadata": {},
   "source": [
    "## 實作練習一"
   ]
  },
  {
   "cell_type": "code",
   "execution_count": null,
   "metadata": {},
   "outputs": [],
   "source": [
    "score = input(\"請輸入成績：\")\n",
    "if(int(score)>=90):\n",
    "     print(\"優等\")\n",
    "elif(int(score)>=80):\n",
    "     print(\"甲等\")\n",
    "elif(int(score)>=70):\n",
    "     print(\"乙等\")\n",
    "elif(int(score)>=60):\n",
    "     print(\"丙等\")\n",
    "else:\n",
    "     print(\"丁等\")\n",
    "        "
   ]
  },
  {
   "cell_type": "code",
   "execution_count": null,
   "metadata": {},
   "outputs": [],
   "source": [
    "sum=0\n",
    "n=int(input(\"請輸入正整數:\"))\n",
    "for n in range(1,n+1,1):\n",
    "    sum=sum+n\n",
    "print(\"1到\"+n+\"的整數和為\"+sum)"
   ]
  },
  {
   "cell_type": "code",
   "execution_count": null,
   "metadata": {},
   "outputs": [],
   "source": []
  },
  {
   "cell_type": "code",
   "execution_count": null,
   "metadata": {},
   "outputs": [],
   "source": []
  },
  {
   "cell_type": "code",
   "execution_count": null,
   "metadata": {},
   "outputs": [],
   "source": []
  }
 ],
 "metadata": {
  "kernelspec": {
   "display_name": "Python 3",
   "language": "python",
   "name": "python3"
  },
  "language_info": {
   "codemirror_mode": {
    "name": "ipython",
    "version": 3
   },
   "file_extension": ".py",
   "mimetype": "text/x-python",
   "name": "python",
   "nbconvert_exporter": "python",
   "pygments_lexer": "ipython3",
   "version": "3.7.3"
  }
 },
 "nbformat": 4,
 "nbformat_minor": 2
}
